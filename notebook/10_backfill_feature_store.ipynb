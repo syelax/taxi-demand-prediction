{
 "cells": [
  {
   "cell_type": "code",
   "execution_count": 1,
   "id": "41c47c9b",
   "metadata": {},
   "outputs": [],
   "source": [
    "import os\n",
    "import sys\n",
    "script_dir = os.getcwd() # Get the current working directory\n",
    "sys.path.append(os.path.abspath(os.path.join(script_dir, '..')))\n",
    "from dotenv import load_dotenv\n",
    "from src.paths import PARENT_DIR\n",
    "load_dotenv(PARENT_DIR/'.env')\n",
    "\n",
    "HOPSWORKS_API_KEY = os.environ['HOPSWORKS_API_KEY']\n",
    "HOPSWORKS_PROJECT_NAME = 'taxidemanpredictor'"
   ]
  },
  {
   "cell_type": "code",
   "execution_count": 2,
   "id": "708c6dc4",
   "metadata": {},
   "outputs": [],
   "source": [
    "from datetime import datetime\n",
    "import pandas as pd \n",
    "from src.data import load_raw_data\n",
    "\n",
    "# start = 2022\n",
    "# end = datetime.now().year\n",
    "\n",
    "# print(f'Downloading raw data from {start} to {end}')\n",
    "\n",
    "# rides = pd.DataFrame()\n",
    "\n",
    "# for year in range(start, end + 1):\n",
    "\n",
    "#     rides_ = load_raw_data(year)\n",
    "\n",
    "#     rides = pd.concat([rides, rides_])"
   ]
  },
  {
   "cell_type": "code",
   "execution_count": 3,
   "id": "8fe96a08",
   "metadata": {},
   "outputs": [],
   "source": [
    "# rides.shape"
   ]
  },
  {
   "cell_type": "code",
   "execution_count": 4,
   "id": "265db2d0",
   "metadata": {},
   "outputs": [],
   "source": [
    "# from src.data import transform_raw_data_into_ts_data\n",
    "# ts_data = transform_raw_data_into_ts_data(rides)"
   ]
  },
  {
   "cell_type": "code",
   "execution_count": 5,
   "id": "c3429084",
   "metadata": {},
   "outputs": [],
   "source": [
    "from src.paths import DATA_DIR\n",
    "# ts_data.to_parquet(DATA_DIR / 'timeseries/ts_data_big.parquet')\n",
    "ts_data = pd.read_parquet(DATA_DIR / 'timeseries/ts_data_big.parquet')"
   ]
  },
  {
   "cell_type": "code",
   "execution_count": 6,
   "id": "ae48a180",
   "metadata": {},
   "outputs": [
    {
     "name": "stderr",
     "output_type": "stream",
     "text": [
      "/home/syelax/Desktop/real_world_ml/taxi-demand-prediction/.venv/lib/python3.12/site-packages/tqdm/auto.py:21: TqdmWarning: IProgress not found. Please update jupyter and ipywidgets. See https://ipywidgets.readthedocs.io/en/stable/user_install.html\n",
      "  from .autonotebook import tqdm as notebook_tqdm\n"
     ]
    },
    {
     "name": "stdout",
     "output_type": "stream",
     "text": [
      "2025-07-16 00:41:26,656 INFO: Initializing external client\n",
      "2025-07-16 00:41:26,658 INFO: Base URL: https://c.app.hopsworks.ai:443\n",
      "2025-07-16 00:41:33,816 INFO: Python Engine initialized.\n",
      "\n",
      "Logged in to project, explore it here https://c.app.hopsworks.ai:443/p/1240219\n"
     ]
    }
   ],
   "source": [
    "import hopsworks\n",
    "\n",
    "project = hopsworks.login(\n",
    "    project=HOPSWORKS_PROJECT_NAME,\n",
    "    api_key_value=HOPSWORKS_API_KEY\n",
    ")"
   ]
  },
  {
   "cell_type": "code",
   "execution_count": 7,
   "id": "df7d63a8",
   "metadata": {},
   "outputs": [],
   "source": [
    "feature_store = project.get_feature_store()"
   ]
  },
  {
   "cell_type": "code",
   "execution_count": null,
   "id": "dcef843e",
   "metadata": {},
   "outputs": [],
   "source": []
  },
  {
   "cell_type": "code",
   "execution_count": null,
   "id": "731a948c",
   "metadata": {},
   "outputs": [],
   "source": []
  },
  {
   "cell_type": "code",
   "execution_count": 9,
   "id": "0d288548",
   "metadata": {},
   "outputs": [],
   "source": [
    "feature_group = feature_store.get_or_create_feature_group(\n",
    "    name=FEATURE_GROUP_NAME,\n",
    "    version=FEATURE_GROUP_VERSION,\n",
    "    description=\"Time-Series data at hourly frequency\",\n",
    "    primary_key = ['pickup_location_id', 'pickup_hour'],\n",
    "    event_time='pickup_hour',\n",
    ")"
   ]
  },
  {
   "cell_type": "code",
   "execution_count": 10,
   "id": "61c74a93",
   "metadata": {},
   "outputs": [
    {
     "name": "stderr",
     "output_type": "stream",
     "text": [
      "Uploading Dataframe: 100.00% |██████████| Rows 7871064/7871064 | Elapsed Time: 07:49 | Remaining Time: 00:00\n"
     ]
    },
    {
     "name": "stdout",
     "output_type": "stream",
     "text": [
      "Launching job: time_series_hourly_feature_group_1_offline_fg_materialization\n",
      "Job started successfully, you can follow the progress at \n",
      "https://c.app.hopsworks.ai:443/p/1240219/jobs/named/time_series_hourly_feature_group_1_offline_fg_materialization/executions\n"
     ]
    },
    {
     "data": {
      "text/plain": [
       "(Job('time_series_hourly_feature_group_1_offline_fg_materialization', 'SPARK'),\n",
       " None)"
      ]
     },
     "execution_count": 10,
     "metadata": {},
     "output_type": "execute_result"
    }
   ],
   "source": [
    "feature_group.insert(ts_data, write_options={'wait_for_job':False})"
   ]
  },
  {
   "cell_type": "code",
   "execution_count": null,
   "id": "69886530",
   "metadata": {},
   "outputs": [],
   "source": []
  }
 ],
 "metadata": {
  "kernelspec": {
   "display_name": "taxi-demand-prediction",
   "language": "python",
   "name": "python3"
  },
  "language_info": {
   "codemirror_mode": {
    "name": "ipython",
    "version": 3
   },
   "file_extension": ".py",
   "mimetype": "text/x-python",
   "name": "python",
   "nbconvert_exporter": "python",
   "pygments_lexer": "ipython3",
   "version": "3.12.7"
  }
 },
 "nbformat": 4,
 "nbformat_minor": 5
}
